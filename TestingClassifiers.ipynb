{
 "cells": [
  {
   "cell_type": "code",
   "execution_count": 2,
   "metadata": {},
   "outputs": [],
   "source": [
    "import copy\n",
    "import pandas as pd\n",
    "import numpy as np\n",
    "import seaborn as sns\n",
    "import matplotlib\n",
    "import matplotlib.pyplot as plt\n",
    "from demo import get_info\n",
    "from sklearn.model_selection import cross_val_score\n",
    "from sklearn.metrics import roc_auc_score\n",
    "from sklearn.metrics import accuracy_score\n",
    "from sklearn.model_selection import cross_val_score, GridSearchCV\n",
    "from sklearn.model_selection import KFold\n",
    "from sklearn.model_selection import train_test_split\n",
    "from sklearn import preprocessing\n",
    "from sklearn.neighbors import KNeighborsClassifier\n",
    "from sklearn.tree import DecisionTreeClassifier"
   ]
  },
  {
   "cell_type": "markdown",
   "metadata": {},
   "source": [
    "# Helper Functions"
   ]
  },
  {
   "cell_type": "code",
   "execution_count": 3,
   "metadata": {},
   "outputs": [],
   "source": [
    "def preview_df(_df):\n",
    "    print(_df.shape)\n",
    "    return _df.head()\n",
    "\n",
    "def testingModel(model, X_train, Y_train):\n",
    "    scores = cross_val_score(model, X_train, Y_train, cv=10, scoring = \"roc_auc\")\n",
    "    print(\"Mean:\", scores.mean())\n",
    "    print(\"Best Score:\", scores.max())\n",
    "    print(\"Worst Score:\", scores.min())\n",
    "    print(\"Standard Deviation:\", scores.std())\n",
    "    return scores.mean()"
   ]
  },
  {
   "cell_type": "markdown",
   "metadata": {},
   "source": [
    "# Data Preparation"
   ]
  },
  {
   "cell_type": "code",
   "execution_count": 4,
   "metadata": {},
   "outputs": [
    {
     "name": "stdout",
     "output_type": "stream",
     "text": [
      "(10001, 23)\n"
     ]
    },
    {
     "data": {
      "text/html": [
       "<div>\n",
       "<style scoped>\n",
       "    .dataframe tbody tr th:only-of-type {\n",
       "        vertical-align: middle;\n",
       "    }\n",
       "\n",
       "    .dataframe tbody tr th {\n",
       "        vertical-align: top;\n",
       "    }\n",
       "\n",
       "    .dataframe thead th {\n",
       "        text-align: right;\n",
       "    }\n",
       "</style>\n",
       "<table border=\"1\" class=\"dataframe\">\n",
       "  <thead>\n",
       "    <tr style=\"text-align: right;\">\n",
       "      <th></th>\n",
       "      <th>artist_familiarity</th>\n",
       "      <th>artist_hotttnesss</th>\n",
       "      <th>artist_id</th>\n",
       "      <th>artist_latitude</th>\n",
       "      <th>artist_location</th>\n",
       "      <th>artist_longitude</th>\n",
       "      <th>artist_name</th>\n",
       "      <th>duration</th>\n",
       "      <th>end_of_fade_in</th>\n",
       "      <th>key</th>\n",
       "      <th>...</th>\n",
       "      <th>mode_confidence</th>\n",
       "      <th>release</th>\n",
       "      <th>song_hotttnesss</th>\n",
       "      <th>start_of_fade_out</th>\n",
       "      <th>tempo</th>\n",
       "      <th>time_signature</th>\n",
       "      <th>time_signature_confidence</th>\n",
       "      <th>title</th>\n",
       "      <th>year</th>\n",
       "      <th>bbhot</th>\n",
       "    </tr>\n",
       "  </thead>\n",
       "  <tbody>\n",
       "    <tr>\n",
       "      <th>0</th>\n",
       "      <td>0.780462</td>\n",
       "      <td>0.574275</td>\n",
       "      <td>ARMQHX71187B9890D3</td>\n",
       "      <td>NaN</td>\n",
       "      <td>Atlanta, GA</td>\n",
       "      <td>NaN</td>\n",
       "      <td>Mastodon</td>\n",
       "      <td>280.21506</td>\n",
       "      <td>0.238</td>\n",
       "      <td>5</td>\n",
       "      <td>...</td>\n",
       "      <td>0.500</td>\n",
       "      <td>Call of the Mastodon</td>\n",
       "      <td>0.597641</td>\n",
       "      <td>275.528</td>\n",
       "      <td>173.205</td>\n",
       "      <td>5</td>\n",
       "      <td>0.120</td>\n",
       "      <td>Deep Sea Creature</td>\n",
       "      <td>2001</td>\n",
       "      <td>0</td>\n",
       "    </tr>\n",
       "    <tr>\n",
       "      <th>1</th>\n",
       "      <td>0.581794</td>\n",
       "      <td>0.401998</td>\n",
       "      <td>ARD7TVE1187B99BFB1</td>\n",
       "      <td>NaN</td>\n",
       "      <td>California - LA</td>\n",
       "      <td>NaN</td>\n",
       "      <td>Casual</td>\n",
       "      <td>218.93179</td>\n",
       "      <td>0.247</td>\n",
       "      <td>1</td>\n",
       "      <td>...</td>\n",
       "      <td>0.636</td>\n",
       "      <td>Fear Itself</td>\n",
       "      <td>0.602120</td>\n",
       "      <td>218.932</td>\n",
       "      <td>92.198</td>\n",
       "      <td>4</td>\n",
       "      <td>0.778</td>\n",
       "      <td>I Didn't Mean To</td>\n",
       "      <td>0</td>\n",
       "      <td>0</td>\n",
       "    </tr>\n",
       "    <tr>\n",
       "      <th>2</th>\n",
       "      <td>0.630630</td>\n",
       "      <td>0.417500</td>\n",
       "      <td>ARMJAGH1187FB546F3</td>\n",
       "      <td>35.14968</td>\n",
       "      <td>Memphis, TN</td>\n",
       "      <td>-90.04892</td>\n",
       "      <td>The Box Tops</td>\n",
       "      <td>148.03546</td>\n",
       "      <td>0.148</td>\n",
       "      <td>6</td>\n",
       "      <td>...</td>\n",
       "      <td>0.430</td>\n",
       "      <td>Dimensions</td>\n",
       "      <td>NaN</td>\n",
       "      <td>137.915</td>\n",
       "      <td>121.274</td>\n",
       "      <td>4</td>\n",
       "      <td>0.384</td>\n",
       "      <td>Soul Deep</td>\n",
       "      <td>1969</td>\n",
       "      <td>1</td>\n",
       "    </tr>\n",
       "    <tr>\n",
       "      <th>3</th>\n",
       "      <td>0.487357</td>\n",
       "      <td>0.343428</td>\n",
       "      <td>ARKRRTF1187B9984DA</td>\n",
       "      <td>NaN</td>\n",
       "      <td>NaN</td>\n",
       "      <td>NaN</td>\n",
       "      <td>Sonora Santanera</td>\n",
       "      <td>177.47546</td>\n",
       "      <td>0.282</td>\n",
       "      <td>8</td>\n",
       "      <td>...</td>\n",
       "      <td>0.565</td>\n",
       "      <td>Las Numero 1 De La Sonora Santanera</td>\n",
       "      <td>NaN</td>\n",
       "      <td>172.304</td>\n",
       "      <td>100.070</td>\n",
       "      <td>1</td>\n",
       "      <td>0.000</td>\n",
       "      <td>Amor De Cabaret</td>\n",
       "      <td>0</td>\n",
       "      <td>0</td>\n",
       "    </tr>\n",
       "    <tr>\n",
       "      <th>4</th>\n",
       "      <td>0.630382</td>\n",
       "      <td>0.454231</td>\n",
       "      <td>AR7G5I41187FB4CE6C</td>\n",
       "      <td>NaN</td>\n",
       "      <td>London, England</td>\n",
       "      <td>NaN</td>\n",
       "      <td>Adam Ant</td>\n",
       "      <td>233.40363</td>\n",
       "      <td>0.000</td>\n",
       "      <td>0</td>\n",
       "      <td>...</td>\n",
       "      <td>0.749</td>\n",
       "      <td>Friend Or Foe</td>\n",
       "      <td>NaN</td>\n",
       "      <td>217.124</td>\n",
       "      <td>119.293</td>\n",
       "      <td>4</td>\n",
       "      <td>0.000</td>\n",
       "      <td>Something Girls</td>\n",
       "      <td>1982</td>\n",
       "      <td>0</td>\n",
       "    </tr>\n",
       "  </tbody>\n",
       "</table>\n",
       "<p>5 rows × 23 columns</p>\n",
       "</div>"
      ],
      "text/plain": [
       "   artist_familiarity  artist_hotttnesss           artist_id  artist_latitude  \\\n",
       "0            0.780462           0.574275  ARMQHX71187B9890D3              NaN   \n",
       "1            0.581794           0.401998  ARD7TVE1187B99BFB1              NaN   \n",
       "2            0.630630           0.417500  ARMJAGH1187FB546F3         35.14968   \n",
       "3            0.487357           0.343428  ARKRRTF1187B9984DA              NaN   \n",
       "4            0.630382           0.454231  AR7G5I41187FB4CE6C              NaN   \n",
       "\n",
       "   artist_location  artist_longitude       artist_name   duration  \\\n",
       "0      Atlanta, GA               NaN          Mastodon  280.21506   \n",
       "1  California - LA               NaN            Casual  218.93179   \n",
       "2      Memphis, TN         -90.04892      The Box Tops  148.03546   \n",
       "3              NaN               NaN  Sonora Santanera  177.47546   \n",
       "4  London, England               NaN          Adam Ant  233.40363   \n",
       "\n",
       "   end_of_fade_in  key  ...  mode_confidence  \\\n",
       "0           0.238    5  ...            0.500   \n",
       "1           0.247    1  ...            0.636   \n",
       "2           0.148    6  ...            0.430   \n",
       "3           0.282    8  ...            0.565   \n",
       "4           0.000    0  ...            0.749   \n",
       "\n",
       "                               release  song_hotttnesss  start_of_fade_out  \\\n",
       "0                 Call of the Mastodon         0.597641            275.528   \n",
       "1                          Fear Itself         0.602120            218.932   \n",
       "2                           Dimensions              NaN            137.915   \n",
       "3  Las Numero 1 De La Sonora Santanera              NaN            172.304   \n",
       "4                        Friend Or Foe              NaN            217.124   \n",
       "\n",
       "     tempo  time_signature  time_signature_confidence              title  \\\n",
       "0  173.205               5                      0.120  Deep Sea Creature   \n",
       "1   92.198               4                      0.778   I Didn't Mean To   \n",
       "2  121.274               4                      0.384          Soul Deep   \n",
       "3  100.070               1                      0.000    Amor De Cabaret   \n",
       "4  119.293               4                      0.000    Something Girls   \n",
       "\n",
       "   year  bbhot  \n",
       "0  2001      0  \n",
       "1     0      0  \n",
       "2  1969      1  \n",
       "3     0      0  \n",
       "4  1982      0  \n",
       "\n",
       "[5 rows x 23 columns]"
      ]
     },
     "execution_count": 4,
     "metadata": {},
     "output_type": "execute_result"
    }
   ],
   "source": [
    "data = pd.read_csv(\"Songset_wBB_marks.csv\")\n",
    "preview_df(data)"
   ]
  },
  {
   "cell_type": "code",
   "execution_count": 5,
   "metadata": {},
   "outputs": [],
   "source": [
    "#Encode artist id into quantitative\n",
    "le = preprocessing.LabelEncoder()\n",
    "data['artist_id'] = le.fit_transform(data['artist_id'].astype('str'))"
   ]
  },
  {
   "cell_type": "code",
   "execution_count": 6,
   "metadata": {},
   "outputs": [
    {
     "name": "stdout",
     "output_type": "stream",
     "text": [
      "<class 'pandas.core.frame.DataFrame'>\n",
      "RangeIndex: 10001 entries, 0 to 10000\n",
      "Data columns (total 23 columns):\n",
      "artist_familiarity           9997 non-null float64\n",
      "artist_hotttnesss            10001 non-null float64\n",
      "artist_id                    10001 non-null int32\n",
      "artist_latitude              3742 non-null float64\n",
      "artist_location              5709 non-null object\n",
      "artist_longitude             3742 non-null float64\n",
      "artist_name                  10001 non-null object\n",
      "duration                     10001 non-null float64\n",
      "end_of_fade_in               10001 non-null float64\n",
      "key                          10001 non-null int64\n",
      "key_confidence               10001 non-null float64\n",
      "loudness                     10001 non-null float64\n",
      "mode                         10001 non-null int64\n",
      "mode_confidence              10001 non-null float64\n",
      "release                      10001 non-null object\n",
      "song_hotttnesss              5649 non-null float64\n",
      "start_of_fade_out            10001 non-null float64\n",
      "tempo                        10001 non-null float64\n",
      "time_signature               10001 non-null int64\n",
      "time_signature_confidence    10001 non-null float64\n",
      "title                        10000 non-null object\n",
      "year                         10001 non-null int64\n",
      "bbhot                        10001 non-null int64\n",
      "dtypes: float64(13), int32(1), int64(5), object(4)\n",
      "memory usage: 1.7+ MB\n"
     ]
    }
   ],
   "source": [
    "data.info()"
   ]
  },
  {
   "cell_type": "code",
   "execution_count": 7,
   "metadata": {},
   "outputs": [],
   "source": [
    "#dropping artist ID due to it being catgorical, and artist_fam due to it not being a metric spotify can give us\n",
    "drop_list = ['artist_id', 'artist_familiarity', 'artist_location', 'artist_latitude', 'artist_longitude','artist_name', 'release', 'title' ,'song_hotttnesss']\n",
    "train = data.drop(drop_list, axis=1)"
   ]
  },
  {
   "cell_type": "code",
   "execution_count": 8,
   "metadata": {},
   "outputs": [
    {
     "name": "stdout",
     "output_type": "stream",
     "text": [
      "<class 'pandas.core.frame.DataFrame'>\n",
      "RangeIndex: 10001 entries, 0 to 10000\n",
      "Data columns (total 14 columns):\n",
      "artist_hotttnesss            10001 non-null float64\n",
      "duration                     10001 non-null float64\n",
      "end_of_fade_in               10001 non-null float64\n",
      "key                          10001 non-null int64\n",
      "key_confidence               10001 non-null float64\n",
      "loudness                     10001 non-null float64\n",
      "mode                         10001 non-null int64\n",
      "mode_confidence              10001 non-null float64\n",
      "start_of_fade_out            10001 non-null float64\n",
      "tempo                        10001 non-null float64\n",
      "time_signature               10001 non-null int64\n",
      "time_signature_confidence    10001 non-null float64\n",
      "year                         10001 non-null int64\n",
      "bbhot                        10001 non-null int64\n",
      "dtypes: float64(9), int64(5)\n",
      "memory usage: 1.1 MB\n"
     ]
    }
   ],
   "source": [
    "train.info()"
   ]
  },
  {
   "cell_type": "code",
   "execution_count": 9,
   "metadata": {},
   "outputs": [
    {
     "data": {
      "text/plain": [
       "(10001,)"
      ]
     },
     "execution_count": 9,
     "metadata": {},
     "output_type": "execute_result"
    }
   ],
   "source": [
    "Y = copy.deepcopy(train.bbhot)\n",
    "Y.shape"
   ]
  },
  {
   "cell_type": "code",
   "execution_count": 10,
   "metadata": {},
   "outputs": [],
   "source": [
    "final_training_set = train.drop(\"bbhot\", axis=1)"
   ]
  },
  {
   "cell_type": "markdown",
   "metadata": {},
   "source": [
    "# Classifiers"
   ]
  },
  {
   "cell_type": "markdown",
   "metadata": {},
   "source": [
    "### KNN Classifiers"
   ]
  },
  {
   "cell_type": "code",
   "execution_count": 11,
   "metadata": {},
   "outputs": [
    {
     "name": "stdout",
     "output_type": "stream",
     "text": [
      "Mean: 0.5236965880150429\n",
      "Best Score: 0.5566106124629193\n",
      "Worst Score: 0.4872304199772985\n",
      "Standard Deviation: 0.022621473817312436\n"
     ]
    }
   ],
   "source": [
    "knn = KNeighborsClassifier(n_neighbors = 3)\n",
    "\n",
    "knn.fit(final_training_set, Y)\n",
    "\n",
    "acc_knn = testingModel(knn, final_training_set, Y)"
   ]
  },
  {
   "cell_type": "markdown",
   "metadata": {},
   "source": [
    "### Decision Tree Classifier"
   ]
  },
  {
   "cell_type": "code",
   "execution_count": 12,
   "metadata": {},
   "outputs": [
    {
     "name": "stdout",
     "output_type": "stream",
     "text": [
      "Mean: 0.527993874156824\n",
      "Best Score: 0.5521471812334469\n",
      "Worst Score: 0.503891681530728\n",
      "Standard Deviation: 0.012792763233459714\n"
     ]
    }
   ],
   "source": [
    "decision_tree = DecisionTreeClassifier()\n",
    "decision_tree.fit(final_training_set, Y)\n",
    "\n",
    "acc_decision_tree = testingModel(decision_tree, final_training_set, Y)"
   ]
  },
  {
   "cell_type": "markdown",
   "metadata": {},
   "source": [
    "# Observations..."
   ]
  },
  {
   "cell_type": "markdown",
   "metadata": {},
   "source": [
    "Both of these classifiers offer very similar levels of accuracy so I will attempt to use both to predict the probability of a song becoming a BillBoard Hit"
   ]
  },
  {
   "cell_type": "markdown",
   "metadata": {},
   "source": [
    "### KNN Classifiers"
   ]
  },
  {
   "cell_type": "code",
   "execution_count": 14,
   "metadata": {},
   "outputs": [
    {
     "name": "stdout",
     "output_type": "stream",
     "text": [
      "The song is not predicted to be a hit.\n"
     ]
    }
   ],
   "source": [
    "#Input Predictive Song\n",
    "\n",
    "knn_song_feats, knn_popularity = get_info(artist_name='jim chappell',\n",
    "                                          song_name='still')\n",
    "\n",
    "knn_selected_song_feats = pd.DataFrame(knn_song_feats).transpose()\n",
    "knn_prediction = knn.predict(knn_selected_song_feats)\n",
    "\n",
    "if knn_prediction[0] == 1:\n",
    "    print('The song is predicted to be a hit!')\n",
    "else:\n",
    "    print('The song is not predicted to be a hit.')"
   ]
  },
  {
   "cell_type": "markdown",
   "metadata": {},
   "source": [
    "### Decision Tree Classifier"
   ]
  },
  {
   "cell_type": "code",
   "execution_count": 15,
   "metadata": {},
   "outputs": [
    {
     "name": "stdout",
     "output_type": "stream",
     "text": [
      "The song is predicted to be a hit!\n"
     ]
    }
   ],
   "source": [
    "#Input Predictive Song\n",
    "\n",
    "dtc_song_feats, dtc_popularity = get_info(artist_name='the killers',\n",
    "                                          song_name='spaceman')\n",
    "\n",
    "dtc_selected_song_feats = pd.DataFrame(dtc_song_feats).transpose()\n",
    "dtc_prediction = decision_tree.predict_proba(dtc_selected_song_feats)\n",
    "\n",
    "if dtc_prediction[0][1] == 1:\n",
    "    print('The song is predicted to be a hit!')\n",
    "else:\n",
    "    print('The song is not predicted to be a hit.')"
   ]
  },
  {
   "cell_type": "code",
   "execution_count": null,
   "metadata": {},
   "outputs": [],
   "source": []
  }
 ],
 "metadata": {
  "kernelspec": {
   "display_name": "Python 3",
   "language": "python",
   "name": "python3"
  },
  "language_info": {
   "codemirror_mode": {
    "name": "ipython",
    "version": 3
   },
   "file_extension": ".py",
   "mimetype": "text/x-python",
   "name": "python",
   "nbconvert_exporter": "python",
   "pygments_lexer": "ipython3",
   "version": "3.7.3"
  }
 },
 "nbformat": 4,
 "nbformat_minor": 2
}
